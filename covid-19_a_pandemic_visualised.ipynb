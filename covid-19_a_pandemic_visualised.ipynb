{
 "cells": [
  {
   "cell_type": "markdown",
   "metadata": {},
   "source": [
    "# COVID-19: A Pandemic Visualised\n",
    "___"
   ]
  },
  {
   "cell_type": "code",
   "execution_count": 2,
   "metadata": {},
   "outputs": [
    {
     "ename": "ModuleNotFoundError",
     "evalue": "No module named 'coronavirus_data'",
     "output_type": "error",
     "traceback": [
      "\u001b[0;31m---------------------------------------------------------------------------\u001b[0m",
      "\u001b[0;31mModuleNotFoundError\u001b[0m                       Traceback (most recent call last)",
      "\u001b[0;32m<ipython-input-2-08798cb37bdb>\u001b[0m in \u001b[0;36m<module>\u001b[0;34m\u001b[0m\n\u001b[1;32m      2\u001b[0m \u001b[0;32mimport\u001b[0m \u001b[0mnumpy\u001b[0m \u001b[0;32mas\u001b[0m \u001b[0mnp\u001b[0m\u001b[0;34m\u001b[0m\u001b[0;34m\u001b[0m\u001b[0m\n\u001b[1;32m      3\u001b[0m \u001b[0;32mimport\u001b[0m \u001b[0mmatplotlib\u001b[0m\u001b[0;34m.\u001b[0m\u001b[0mpyplot\u001b[0m \u001b[0;32mas\u001b[0m \u001b[0mplt\u001b[0m\u001b[0;34m\u001b[0m\u001b[0;34m\u001b[0m\u001b[0m\n\u001b[0;32m----> 4\u001b[0;31m \u001b[0;32mimport\u001b[0m \u001b[0mcoronavirus_data\u001b[0m\u001b[0;34m\u001b[0m\u001b[0;34m\u001b[0m\u001b[0m\n\u001b[0m\u001b[1;32m      5\u001b[0m \u001b[0;32mimport\u001b[0m \u001b[0mmatplotlib\u001b[0m\u001b[0;34m.\u001b[0m\u001b[0mdates\u001b[0m \u001b[0;32mas\u001b[0m \u001b[0mmdates\u001b[0m\u001b[0;34m\u001b[0m\u001b[0;34m\u001b[0m\u001b[0m\n\u001b[1;32m      6\u001b[0m \u001b[0;32mimport\u001b[0m \u001b[0mmatplotlib\u001b[0m\u001b[0;34m.\u001b[0m\u001b[0mticker\u001b[0m \u001b[0;32mas\u001b[0m \u001b[0mmticker\u001b[0m\u001b[0;34m\u001b[0m\u001b[0;34m\u001b[0m\u001b[0m\n",
      "\u001b[0;31mModuleNotFoundError\u001b[0m: No module named 'coronavirus_data'"
     ]
    }
   ],
   "source": [
    "import pandas as pd\n",
    "import numpy as np\n",
    "import matplotlib.pyplot as plt\n",
    "import coronavirus_data\n",
    "import matplotlib.dates as mdates\n",
    "import matplotlib.ticker as mticker\n",
    "import datetime\n",
    "from IPython.display import Markdown as md\n",
    "\n",
    "plt.style.use('sample_style')"
   ]
  },
  {
   "cell_type": "code",
   "execution_count": null,
   "metadata": {},
   "outputs": [],
   "source": [
    "# Update csv files with latest jh data\n",
    "coronavirus_data.update_data()\n",
    "\n",
    "# Read data, do some qol stuff\n",
    "df_cases = pd.read_csv('data/confirmed_cases.csv', skiprows=[1])\n",
    "df_cases.rename(columns={'Province/State': 'Province', 'Country/Region': 'Country', 'Value': 'Cases'}, inplace=True)\n",
    "df_deaths = pd.read_csv('data/covid_deaths.csv', skiprows=[1])\n",
    "df_deaths.rename(columns={'Province/State': 'Province', 'Country/Region': 'Country', 'Value': 'Deaths'}, inplace=True)\n",
    "df = df_cases.merge(df_deaths)\n",
    "df['Date'] = pd.to_datetime(df['Date'])\n",
    "\n",
    "df['New_cases'] = df['Cases'].diff(periods=-1)\n",
    "df['New_deaths'] = df['Deaths'].diff(periods=-1)\n",
    "\n",
    "# Covert some of the country names into more usable formats\n",
    "jh_to_standard = {'US': 'USA', 'United Kingdom': 'UK', 'Central African Republic': 'CAR', 'Saint Vincent and the Grenadines': 'St. Vincent Grenadines', 'Congo (Brazzaville)': 'Congo', 'Congo (Kinshasa)': 'DRC', \"Cote d'Ivoire\": 'Ivory Coast', 'Holy See': 'Vatican', 'Korea, South': 'South Korea', 'Taiwan*': 'Taiwan', 'United Arab Emirates': 'UAE', 'West Bank and Gaza': 'Palestine'}\n",
    "df = df.replace({'Country': jh_to_standard})\n",
    "\n",
    "df_provs = df[-df['Province'].isna()]\n",
    "for country in ['UK', 'France', 'Denmark', 'Netherlands']: # all have overseas territories that should probably be counted separately\n",
    "    provinces = df_provs[df_provs['Country'] == country]['Province'].unique()\n",
    "    for province in provinces:\n",
    "        df.loc[df['Province'] == province, ['Country']] = province\n",
    "        df.loc[df['Province'] == province, ['Province']] = np.nan\n",
    "        \n",
    "restricted_provinces = ['Diamond Princess', 'Grand Princess', 'Recovered']\n",
    "df = df[-df['Province'].isin(restricted_provinces)]"
   ]
  },
  {
   "cell_type": "code",
   "execution_count": null,
   "metadata": {},
   "outputs": [],
   "source": [
    "today = datetime.datetime.today().date()\n",
    "last_data_date = (datetime.datetime.today() - datetime.timedelta(days=1)).strftime('%m-%d-%Y')\n",
    "\n",
    "# nicer reading date formatting\n",
    "def suffix(d):\n",
    "    return 'th' if 11<=d<=13 else {1:'st',2:'nd',3:'rd'}.get(d%10, 'th')\n",
    "\n",
    "def custom_strftime(format, t):\n",
    "    return t.strftime(format).replace('{S}', str(t.day) + suffix(t.day))\n",
    "\n",
    "total_cases = df['Cases'].sum()\n",
    "most_cases = df['Cases'].max()\n",
    "\n",
    "def get_country_data(df, country):\n",
    "    df_country = df.loc[df['Country'] == country] # gets data of just that country\n",
    "    df_country = df_country.groupby('Date').sum() # gets rid of provinces, grouping by date\n",
    "    return df_country"
   ]
  },
  {
   "cell_type": "markdown",
   "metadata": {},
   "source": [
    "## Introduction"
   ]
  },
  {
   "cell_type": "code",
   "execution_count": null,
   "metadata": {},
   "outputs": [],
   "source": [
    "fig, (ax1, ax2) = plt.subplots(1, 2, figsize=(20, 7.5))\n",
    "colours = plt.rcParams['axes.prop_cycle'].by_key()['color']\n",
    "df_world = df.groupby('Date').sum()\n",
    "df_world['Cases'].plot(ax=ax1, linewidth=4)\n",
    "df_world['Deaths'].plot(ax=ax1, linewidth=4)\n",
    "df_world['Cases'].plot(ax=ax2, logy=True, linewidth=4)\n",
    "df_world['Deaths'].plot(ax=ax2, logy=True, linewidth=4)\n",
    "ax1.axvline('02-18-2020', ls='--', c=colours[2], label='South Korea, Iran, Italy Outbreaks')\n",
    "ax2.axvline('02-18-2020', ls='--', c=colours[2], label='South Korea, Iran, Italy Outbreaks')\n",
    "ax1.axvline('03-03-2020', ls='--', c=colours[3], label='Western Europe and USA Outbreaks')\n",
    "ax2.axvline('03-03-2020', ls='--', c=colours[3], label='Western Europe and USA Outbreaks')\n",
    "ax1.axvline('03-10-2020', ls='--', c=colours[6], label='South America Outbreaks')\n",
    "ax2.axvline('03-10-2020', ls='--', c=colours[6], label='South America Outbreaks')\n",
    "ax1.axvline('03-14-2020', ls='--', c=colours[7], label='Africa Outbreaks')\n",
    "ax2.axvline('03-14-2020', ls='--', c=colours[7], label='Africa Outbreaks')\n",
    "ax1.grid(b=True, which='major', axis='both')\n",
    "ax1.legend()\n",
    "ax1.set_xlabel(None)\n",
    "ax1.tick_params(axis='both', which='both', labelsize=12)\n",
    "ax1.set_title('Coronavirus Timeline')\n",
    "ax2.set_title('Coronavirus Timeline - Logarithmic Scale')\n",
    "ax2.grid(b=True, which='major', axis='both')\n",
    "ax2.legend()\n",
    "ax2.set_xlabel(None)\n",
    "ax2.tick_params(axis='both', which='both', labelsize=12)\n",
    "ax2.yaxis.set_major_formatter(mticker.ScalarFormatter())"
   ]
  },
  {
   "cell_type": "code",
   "execution_count": null,
   "metadata": {},
   "outputs": [],
   "source": [
    "today_formatted = custom_strftime('{S} %B', today)\n",
    "md(f'To date **({today_formatted}),** the coronavirus has infected over **1,200,000 people** across the world, caused more than **65,000 deaths** and is causing immense **social and economic disruption** not seen in the Western world since the Second World War. Entire societies are staying in their homes. Governments are spending billions in attempts to save the livelihoods of their citizens, but be in no doubt that there will be enormous repercussions from this once this is all over. However, what is perhaps most worrying is that, for many countries all around the world, this appears to be just the start of their epidemic which will change the lives of their people for weeks and probably months to come.\\n\\nTo understand how such a disease can grow to cause the upheaval of society in such a rapid and devastating manner, we should go back to the start. I will make use of data visualizations to help explain the story, draw insights and shed light on important points in this pandemic.')"
   ]
  },
  {
   "cell_type": "markdown",
   "metadata": {},
   "source": [
    "## China"
   ]
  },
  {
   "cell_type": "markdown",
   "metadata": {},
   "source": [
    "### An Overall Look"
   ]
  },
  {
   "cell_type": "code",
   "execution_count": null,
   "metadata": {},
   "outputs": [],
   "source": [
    "fig, (ax1, ax2) = plt.subplots(1, 2, figsize=(20, 7.5))\n",
    "for country in ['China']:\n",
    "    df_country = get_country_data(df, country)\n",
    "    df_country['Cases'].plot(ax=ax1, label=f'{country} Cases', linewidth=4)\n",
    "    ax1.set_title('Confirmed Cases')\n",
    "    ax1.grid(b=True, which='major', axis='both')\n",
    "    ax1.set_xlabel(None)\n",
    "    ax1.tick_params(axis='both', which='both', labelsize=12)\n",
    "    df_country['Cases'].plot(ax=ax2, logy=True, label=f'{country} Cases', linewidth=4)\n",
    "    ax2.set_title('Confirmed Cases - Logarithmic Scale')\n",
    "    ax2.grid(b=True, which='both', axis='y')\n",
    "    ax2.grid(b=True, which='major', axis='x')\n",
    "    ax2.set_xlabel(None)\n",
    "    ax2.yaxis.set_major_formatter(mticker.ScalarFormatter())\n",
    "    ax2.tick_params(axis='both', which='both', labelsize=12)"
   ]
  },
  {
   "cell_type": "markdown",
   "metadata": {},
   "source": [
    "We are probably all now very familiar with the distinctive shape of these figures, they've been everywhere. The graph on the left is the total number of confirmed cases in China. The one on the right is this same data plotted with a logarithic y-axis, which is often more intuitive for understanding exponential growth scenarios, like in an epidemic.\n",
    "\n",
    "**Observations:**\n",
    "* There is some data missing from the start of the outbreak. The first cases of Covid-19 emerged in China in mid-to-late December.\n",
    "* The sudden spike in confirmed cases in mid-February (increasing by around 15,000 cases in one day) was because the Chinese authorities changed the way they define a 'confirmed case' - it didn't represent an actual increase in the number of infected people. This hampers the visualization of the Chinese outbreak a little, but in general, the number of infections was flattening out by then so this really shouldn't be a significant event, even if the graph suggests that it might be.\n",
    "* The spread of the virus appears to have only been exponential up until around 29th January. On the logarithmic y-axis plot, the curve begins to tail off from around then, then almost totally flattening from the start of March."
   ]
  },
  {
   "cell_type": "markdown",
   "metadata": {},
   "source": [
    "These graphs give an overall view of the spread of coronavirus in China but there is more to China's story than these graph suggests. To dig a little bit deeper, we can take a look at some of the different provinces in China."
   ]
  },
  {
   "cell_type": "markdown",
   "metadata": {},
   "source": [
    "### Chinese Provinces"
   ]
  },
  {
   "cell_type": "code",
   "execution_count": null,
   "metadata": {},
   "outputs": [],
   "source": [
    "def get_all_country_data(df, country):\n",
    "    df_country = df.loc[df['Country'] == country] # gets data of just that country\n",
    "    return df_country\n",
    "\n",
    "df_china = get_all_country_data(df, 'China')\n",
    "df_china_today = df_china[df_china['Date'] == last_data_date].sort_values(by='Cases', ascending=False)\n",
    "top_10_provinces = df_china_today.head(10)['Province'].to_list()\n",
    "\n",
    "def get_province_data(df, province):\n",
    "    df_province = df.loc[df['Province'] == province]\n",
    "    return df_province\n",
    "\n",
    "fig, (ax1, ax2) = plt.subplots(1, 2, figsize=(20, 7.5))\n",
    "\n",
    "for province in top_10_provinces:\n",
    "    province_data = get_province_data(df, province)\n",
    "    province_data.set_index('Date', inplace=True)\n",
    "    province_data['Cases'].plot(ax=ax2, linewidth=3)\n",
    "ax2.set_title('Top 10 Provinces')\n",
    "ax2.grid(b=True, which='major', axis='both')\n",
    "ax2.set_xlabel(None)\n",
    "ax2.tick_params(axis='both', which='both', labelsize=13)\n",
    "\n",
    "df_china_today = df_china[df_china['Date'] == last_data_date].sort_values(by='Cases', ascending=False)\n",
    "df_china_today.set_index('Province', inplace=True)\n",
    "df_china_today.head(15)\n",
    "\n",
    "ax1.set_title(f'Top 10 Provinces - {today_formatted}')\n",
    "df_china_today.head(10)['Cases'].plot.bar(ax=ax1)\n",
    "ax1.grid(b=True, which='major', axis='y')\n",
    "ax1.set_xlabel(None)\n",
    "ax1.tick_params(axis='both', which='both', labelsize=13)"
   ]
  },
  {
   "cell_type": "markdown",
   "metadata": {},
   "source": [
    "It appears that Hubei province, home to the original epicenter of the virus, was responsible for the overwhelming majority of cases in China (83%). This statistic might appear obvious - the epicenter province should have the most cases, right? - but to contain 83% of all of China's cases in one province shows that an immense containment effort must have taken place.\n",
    "\n",
    "China received a lot of criticism in the early stages of the epidemic for suppressing information regarding the spread of the virus and for acting too slowly. However, in the days and weeks since, China introduced strong measures to contain the spread of the virus to Hubei. The graph above shows the clear success of this effort and further efforts to track, isolate and contain cases in other Chinese provinces, stopping the exponential rise in cases seen in so many countries around the world."
   ]
  },
  {
   "cell_type": "code",
   "execution_count": null,
   "metadata": {},
   "outputs": [],
   "source": [
    "fig, ax = plt.subplots(figsize=(10, 7.5))\n",
    "provinces = top_10_provinces[1:]\n",
    "provinces.extend(['Beijing', 'Shanghai'])\n",
    "for province in provinces:\n",
    "    province_data = get_province_data(df, province)\n",
    "    province_data.set_index('Date', inplace=True)\n",
    "    province_data['Cases'].plot(ax=ax, linewidth=2, label=province)\n",
    "ax.axvline('03-16-2020', ls='--', c='grey', label='Second Wave of Coronavirus?')\n",
    "ax.set_title('Confirmed Cases - Top 10 Chinese Provinces Without Hubei')\n",
    "ax.grid(b=True, which='major', axis='both')\n",
    "ax.set_xlabel(None)\n",
    "ax.legend()\n",
    "ax.tick_params(axis='both', which='both', labelsize=13)"
   ]
  },
  {
   "cell_type": "markdown",
   "metadata": {},
   "source": [
    "Quickly before we move on from China, I want to draw attention to the other provinces most affected by coronavirus. Looking at the graph above we can see that **only six Chinese provinces reached 1,000 cases**, including Hubei. As of 31st March, **there are now 45 countries around the world with over 1,000 cases** - and this will continue to increase in the coming days - surely there must be something remarkable about China's response.\n",
    "\n",
    "Interestingly, it appears there may be a 'second-wave' of new coronavirus cases appearing in China, just as social distancing measures are starting to be relaxed. This resurgence is primarily a consequence of imported cases but it is definitely one to watch out for as time goes on and could be an example for other countries to learn from.\n",
    "\n",
    "Herd immunity - where enough people in a community (around 60%) have developed immunity such that transmission chains are broken and a virus cannot take hold - almost certainly has not occured, even in Hubei, so another outbreak with community transmission is definitely possible in China if social distancing measures are relaxed too quickly."
   ]
  },
  {
   "cell_type": "markdown",
   "metadata": {},
   "source": [
    "## Early Outbreaks in Southeast Asia\n",
    "**Singapore**, **Taiwan**, **Thailand**, **Vietnam** and **Malaysia** all reported their first cases a few weeks into the China outbreak. However, they were all able to track their cases, isolate them and stop a serious outbreak from occuring. Singapore and Taiwan, in particular, had experienced cases of Severe Acute Respiratory Syndrome (SARS-CoV) back in 2003 and had [33 and 37 deaths](https://www.who.int/csr/sars/country/table2004_04_21/en/) respectively. SARS was a particularly lethal virus with an overall [case fatality rate of 9.6%](https://www.who.int/csr/sars/country/table2004_04_21/en/) and it appears that these countries have learned from that dark experience and acted swiftly to trace and isolate cases."
   ]
  },
  {
   "cell_type": "code",
   "execution_count": null,
   "metadata": {},
   "outputs": [],
   "source": [
    "fig, (ax3, ax4) = plt.subplots(1, 2, figsize=(20, 7.5))\n",
    "for country in ['Taiwan', 'Thailand', 'Vietnam', 'Malaysia', 'Singapore']:\n",
    "    df_country = get_country_data(df, country)\n",
    "    df_country['Cases'].plot(ax=ax3, label=country)\n",
    "    df_country['Cases'].plot(ax=ax4, logy=True, label=country)\n",
    "ax3.legend()\n",
    "ax3.set_title('Confirmed Cases')    \n",
    "ax3.set_ylim(1, 40) \n",
    "ax3.set_xlim('01-22-2020', '02-16-2020') \n",
    "ax3.set_xlabel(None)\n",
    "ax4.legend()\n",
    "ax4.set_title('Confirmed Cases - Logarithmic Scale')    \n",
    "ax4.set_ylim(1, 40) \n",
    "ax4.set_xlim('01-22-2020', '02-16-2020') \n",
    "ax4.set_xlabel(None)\n",
    "ax3.grid(b=True, which='major', axis='both')\n",
    "ax4.grid(b=True, which='major', axis='both')\n",
    "ax4.grid(b=True, which='minor', axis='y')\n",
    "ax4.yaxis.set_major_formatter(mticker.ScalarFormatter())\n",
    "ax3.tick_params(axis='both', which='both', labelsize=12)\n",
    "ax4.tick_params(axis='both', which='both', labelsize=12)"
   ]
  },
  {
   "cell_type": "markdown",
   "metadata": {},
   "source": [
    "**Observations:**\n",
    "* Early efforts from Taiwan, Malaysia, Thailand and Vietnam meant that their numbers of cases all looked like they had tailed off and had they had succeeded in containing their outbreaks for now, all managing to keep total cases under 40.\n",
    "* Singapore, while not stopping new cases completely, certainly managed to prevent the spread from becoming exponential."
   ]
  },
  {
   "cell_type": "markdown",
   "metadata": {},
   "source": [
    "## The first footholds outside China"
   ]
  },
  {
   "cell_type": "markdown",
   "metadata": {},
   "source": [
    "### South Korea, Iran and Italy\n",
    "Two months since the virus was first made known, somehow the spread of the virus had been mostly contained to China. However, there was an underlying inevitability that sooner or later it would escape, particularly after the revelation of the virus' [5 day incubation period](https://www.sciencedaily.com/releases/2020/03/200317175438.htm), in which infected individuals do not display symptoms but can still infect others.\n",
    "\n",
    "On 18th February, in Daegu, South Korea, a member of a religious sect was diagnosed with coronavirus, the country's 31st case. In the few days after, tens and then hundreds of new cases from the same religious gatherings were confirmed. By 28th February, there were 2337 confirmed cases.\n",
    "\n",
    "Meanwhile in Italy, a cluster of cases began to emerge in the Lombardy region, Northern Italy. Similarly, cases started to trickle and then flood in in Iran."
   ]
  },
  {
   "cell_type": "code",
   "execution_count": null,
   "metadata": {},
   "outputs": [],
   "source": [
    "fig, (ax1, ax2) = plt.subplots(1, 2, figsize=(20, 7.5))\n",
    "for country in ['Italy', 'Iran', 'South Korea']:\n",
    "    df_country = get_country_data(df, country)\n",
    "    df_country['Cases'].plot(label=country, ax=ax1)\n",
    "    df_country['Deaths'].plot(label=country, ax=ax2)\n",
    "ax1.set_ylim(0, 20000)\n",
    "ax1.set_xlim('02-17-2020', '03-20-2020')\n",
    "ax1.set_title('Confirmed Cases')\n",
    "ax1.grid(b=True, which='major', axis='both')\n",
    "ax1.legend()\n",
    "ax2.set_xlim('02-17-2020', '03-16-2020')\n",
    "ax2.set_title('Deaths')\n",
    "ax2.grid(b=True, which='major', axis='both')\n",
    "ax2.legend()\n",
    "ax2.set_ylim(0, 3000)\n",
    "ax1.set_xlabel(None)\n",
    "ax2.set_xlabel(None)\n",
    "ax1.tick_params(axis='both', which='both', labelsize=12)\n",
    "ax2.tick_params(axis='both', which='both', labelsize=12)"
   ]
  },
  {
   "cell_type": "markdown",
   "metadata": {},
   "source": [
    "**Observations:**\n",
    "* South Korea used an app to track new infections and help citizens avoid those who are known to have coronavirus\n",
    "* Italy has suffered most of these three according to the figures."
   ]
  },
  {
   "cell_type": "markdown",
   "metadata": {},
   "source": [
    "### Western Europe and USA\n",
    "In the week or two after Italy's outbreak began to take off, cases started to emerge in France, Spain, Germany and USA. Around a week later, UK, Switzerland and other countries in Europe saw similar growth in confirmed cases. On 11th March, the [World Health Organization (WHO) declared COVID-19 a pandemic](https://www.who.int/dg/speeches/detail/who-director-general-s-opening-remarks-at-the-media-briefing-on-covid-19---11-march-2020)."
   ]
  },
  {
   "cell_type": "code",
   "execution_count": null,
   "metadata": {},
   "outputs": [],
   "source": [
    "fig, ((ax1, ax2), (ax3, ax4)) = plt.subplots(2, 2, figsize=(20, 15))\n",
    "for country in ['Italy', 'France', 'Spain', 'USA', 'Germany']:\n",
    "    df_country = get_country_data(df, country)\n",
    "    df_country['Cases'].plot(label=country, ax=ax1)\n",
    "    df_country['Deaths'].plot(label=country, ax=ax2)\n",
    "    df_country['Cases'].plot(label=country, logy=True, ax=ax3)\n",
    "    df_country['Deaths'].plot(label=country, logy=True, ax=ax4)\n",
    "#ax1.set_ylim(0, 40000)\n",
    "ax1.set_xlim('02-17-2020', last_data_date)\n",
    "ax1.set_title('Confirmed Cases')\n",
    "ax1.grid(b=True, which='major', axis='both')\n",
    "ax1.legend()\n",
    "ax2.set_xlim('02-17-2020', last_data_date)\n",
    "ax2.set_title('Deaths')\n",
    "ax2.grid(b=True, which='major', axis='both')\n",
    "ax2.legend()\n",
    "ax1.set_xlabel(None)\n",
    "ax2.set_xlabel(None)\n",
    "#ax2.set_ylim(0, 6000)\n",
    "ax1.tick_params(axis='both', which='both', labelsize=12)\n",
    "ax2.tick_params(axis='both', which='both', labelsize=12)\n",
    "ax3.set_xlim('02-17-2020', last_data_date)\n",
    "ax3.set_title('Confirmed Cases - Logarithmic Scale')\n",
    "ax3.grid(b=True, which='major', axis='both')\n",
    "ax3.legend()\n",
    "ax4.set_xlim('02-17-2020', last_data_date)\n",
    "ax4.set_title('Deaths - Logarithmic Scale')\n",
    "ax4.grid(b=True, which='major', axis='both')\n",
    "ax4.legend()\n",
    "ax3.set_xlabel(None)\n",
    "ax4.set_xlabel(None)\n",
    "ax3.tick_params(axis='both', which='both', labelsize=12)\n",
    "ax4.tick_params(axis='both', which='both', labelsize=12)\n",
    "ax3.yaxis.set_major_formatter(mticker.ScalarFormatter())\n",
    "ax4.yaxis.set_major_formatter(mticker.ScalarFormatter())"
   ]
  },
  {
   "cell_type": "markdown",
   "metadata": {},
   "source": [
    "**Observations:**\n",
    "* Note that Germany has far fewer deaths than France, Spain or USA, despite having similar figures for confirmed cases. Is this because the Germans somehow have stronger immune systems than the French or Spanish? Of course not! Germany has tested many more people per capita for coronavirus than Spain, France and USA. The effect of this is that milder cases are being picked up in Germany where they would go unnoticed elsewhere. Germany has far fewer deaths which actually suggests that **Germany's epidemic is lagging behind** the epidemics in Spain, France, USA and even UK - which has far fewer confirmed cases -  despite what the data might suggest at a glance.\n",
    "* The difference in testing figures from country to country is important - **comparing countries on confirmed cases alone can be misleading**.\n",
    "* **The number of deaths in a country is a more stable and reliable statistic** in epidemiology, particularly when comparing countries where healthcare is of a similar standard (This breaks down when comparing countries with varying healthcare standards, where the number of deaths per case would be expected to vary)."
   ]
  },
  {
   "cell_type": "markdown",
   "metadata": {},
   "source": [
    "## Lock-down\n",
    "Across the world, various goverments have imposed periods of lock-down to try to break chains of infection and reduce the number of new cases. It is too soon to appreciate the impact of these measures in some countries but already we can see Italy's curve beginning to tail off as a result."
   ]
  },
  {
   "cell_type": "code",
   "execution_count": null,
   "metadata": {},
   "outputs": [],
   "source": [
    "fig, (ax1, ax2) = plt.subplots(1, 2, figsize=(20, 7.5))\n",
    "for country in ['Italy']:\n",
    "    df_country = get_country_data(df, country)\n",
    "    df_country['Cases'].plot(ax=ax1)\n",
    "    df_country['Deaths'].plot(ax=ax1)\n",
    "    df_country['Cases'].plot(ax=ax2, logy=True)\n",
    "    df_country['Deaths'].plot(ax=ax2, logy=True)    \n",
    "ax1.axvline('03-09-2020', ls='--', c='grey', label='Lock-down Imposed')\n",
    "ax2.axvline('03-09-2020', ls='--', c='grey', label='Lock-down Imposed')\n",
    "ax1.set_xlim('02-17-2020', last_data_date)\n",
    "ax1.set_title(f'{country}')\n",
    "ax1.grid(b=True, which='major', axis='both')\n",
    "ax1.legend()\n",
    "ax1.set_xlabel(None)\n",
    "ax1.tick_params(axis='both', which='both', labelsize=12)\n",
    "ax2.set_xlim('02-17-2020', last_data_date)\n",
    "ax2.set_title(f'{country} - Logarithmic Scale')\n",
    "ax2.grid(b=True, which='major', axis='both')\n",
    "ax2.legend()\n",
    "ax2.set_xlabel(None)\n",
    "ax2.tick_params(axis='both', which='both', labelsize=12)\n",
    "ax2.yaxis.set_major_formatter(mticker.ScalarFormatter())"
   ]
  },
  {
   "cell_type": "code",
   "execution_count": null,
   "metadata": {},
   "outputs": [],
   "source": [
    "fig, (ax1, ax2) = plt.subplots(1, 2, figsize=(20, 7.5))\n",
    "for country in ['Spain']:\n",
    "    df_country = get_country_data(df, country)\n",
    "    df_country['Cases'].plot(ax=ax1)\n",
    "    df_country['Deaths'].plot(ax=ax1)\n",
    "    df_country['Cases'].plot(ax=ax2, logy=True)\n",
    "    df_country['Deaths'].plot(ax=ax2, logy=True)\n",
    "ax1.axvline('03-15-2020', ls='--', c='grey', label='Lock-down Imposed')\n",
    "ax2.axvline('03-15-2020', ls='--', c='grey', label='Lock-down Imposed')\n",
    "ax1.set_xlim('03-04-2020', last_data_date)\n",
    "ax1.set_title(f'{country}')\n",
    "ax1.grid(b=True, which='major', axis='both')\n",
    "ax1.legend()\n",
    "ax1.set_xlabel(None)\n",
    "ax1.tick_params(axis='both', which='both', labelsize=12)\n",
    "ax2.set_xlim('03-04-2020', last_data_date)\n",
    "ax2.set_title(f'{country} - Logarithmic Scale')\n",
    "ax2.grid(b=True, which='major', axis='both')\n",
    "ax2.legend()\n",
    "ax2.set_xlabel(None)\n",
    "ax2.tick_params(axis='both', which='both', labelsize=12)\n",
    "ax2.yaxis.set_major_formatter(mticker.ScalarFormatter())"
   ]
  },
  {
   "cell_type": "code",
   "execution_count": null,
   "metadata": {},
   "outputs": [],
   "source": [
    "fig, (ax1, ax2) = plt.subplots(1, 2, figsize=(20, 7.5))\n",
    "for country in ['USA']:\n",
    "    df_country = get_country_data(df, country)\n",
    "    df_country['Cases'].plot(ax=ax1)\n",
    "    df_country['Deaths'].plot(ax=ax1)\n",
    "    df_country['Cases'].plot(ax=ax2, logy=True)\n",
    "    df_country['Deaths'].plot(ax=ax2, logy=True)\n",
    "ax1.axvline('03-22-2020', ls='--', c='grey', label=' New York Lock-down')\n",
    "ax2.axvline('03-22-2020', ls='--', c='grey', label='New York Lock-down')\n",
    "ax1.set_xlim('03-07-2020', last_data_date)\n",
    "ax1.set_title(f'{country}')\n",
    "ax1.grid(b=True, which='major', axis='both')\n",
    "ax1.legend()\n",
    "ax1.set_xlabel(None)\n",
    "ax1.tick_params(axis='both', which='both', labelsize=12)\n",
    "ax2.set_xlim('03-07-2020', last_data_date)\n",
    "ax2.set_title(f'{country} - Logarithmic Scale')\n",
    "ax2.grid(b=True, which='major', axis='both')\n",
    "ax2.legend()\n",
    "ax2.set_xlabel(None)\n",
    "ax2.tick_params(axis='both', which='both', labelsize=12)\n",
    "ax2.yaxis.set_major_formatter(mticker.ScalarFormatter())"
   ]
  },
  {
   "cell_type": "code",
   "execution_count": null,
   "metadata": {},
   "outputs": [],
   "source": [
    "fig, (ax1, ax2) = plt.subplots(1, 2, figsize=(20, 7.5))\n",
    "for country in ['France']:\n",
    "    df_country = get_country_data(df, country)\n",
    "    df_country['Cases'].plot(ax=ax1)\n",
    "    df_country['Deaths'].plot(ax=ax1)\n",
    "    df_country['Cases'].plot(ax=ax2, logy=True)\n",
    "    df_country['Deaths'].plot(ax=ax2, logy=True)\n",
    "ax1.axvline('03-17-2020', ls='--', c='grey', label='Lock-down Imposed')\n",
    "ax2.axvline('03-17-2020', ls='--', c='grey', label='Lock-down Imposed')\n",
    "ax1.set_xlim('02-27-2020', last_data_date)\n",
    "ax1.set_title(f'{country}')\n",
    "ax1.grid(b=True, which='major', axis='both')\n",
    "ax1.legend()\n",
    "ax1.set_xlabel(None)\n",
    "ax1.tick_params(axis='both', which='both', labelsize=12)\n",
    "ax2.set_xlim('02-27-2020', last_data_date)\n",
    "ax2.set_title(f'{country} - Logarithmic Scale')\n",
    "ax2.grid(b=True, which='major', axis='both')\n",
    "ax2.legend()\n",
    "ax2.set_xlabel(None)\n",
    "ax2.tick_params(axis='both', which='both', labelsize=12)\n",
    "ax2.yaxis.set_major_formatter(mticker.ScalarFormatter())"
   ]
  },
  {
   "cell_type": "code",
   "execution_count": null,
   "metadata": {},
   "outputs": [],
   "source": [
    "fig, (ax1, ax2) = plt.subplots(1, 2, figsize=(20, 7.5))\n",
    "for country in ['UK']:\n",
    "    df_country = get_country_data(df, country)\n",
    "    df_country['Cases'].plot(ax=ax1)\n",
    "    df_country['Deaths'].plot(ax=ax1)\n",
    "    df_country['Cases'].plot(ax=ax2, logy=True)\n",
    "    df_country['Deaths'].plot(ax=ax2, logy=True)\n",
    "ax1.axvline('03-16-2020', ls='--', c='grey', label='First Social Distancing Order')\n",
    "ax2.axvline('03-16-2020', ls='--', c='grey', label='First Social Distancing Order')\n",
    "ax1.axvline('03-23-2020', ls='-.', c='grey', label='Lock-down Imposed')\n",
    "ax2.axvline('03-23-2020', ls='-.', c='grey', label='Lock-down Imposed')\n",
    "ax1.set_xlim('03-01-2020', last_data_date)\n",
    "ax1.set_title('United Kingdom')\n",
    "ax1.grid(b=True, which='major', axis='both')\n",
    "ax1.legend()\n",
    "ax1.set_xlabel(None)\n",
    "ax1.tick_params(axis='both', which='both', labelsize=12)\n",
    "ax2.set_xlim('03-01-2020', last_data_date)\n",
    "ax2.set_title('United Kingdom - Logarithmic Scale')\n",
    "ax2.grid(b=True, which='major', axis='both')\n",
    "ax2.legend()\n",
    "ax2.set_xlabel(None)\n",
    "ax2.tick_params(axis='both', which='both', labelsize=12)\n",
    "ax2.yaxis.set_major_formatter(mticker.ScalarFormatter())"
   ]
  },
  {
   "cell_type": "markdown",
   "metadata": {},
   "source": [
    "## Coronavirus spreads all around the world\n",
    "### Indonesia\n",
    "Indonesia was an perplexing case study for the duration of February and the start of March; even though it had many flights to and from Wuhan, the epicenter of the virus, as well as many other flights to and from China, its first cases didn't appear for a long time. Many people speculated that this was because of the lack of testing performed by the government but the weeks went on without any sign of coronavirus. In a country with 264 million people and with varying standards of health care, this was a relief.\n",
    "\n",
    "However, on 2nd March, Indonesia reported their first two cases of coronavirus. Before long, the country which had somehow evaded coronavirus now had its own epidemic. Indonesia currently has one of the highest case fatality rates at 8.9% - whether this is due to undertesting or partly lower healthcare capacity, this is extremely worrying either way."
   ]
  },
  {
   "cell_type": "code",
   "execution_count": null,
   "metadata": {},
   "outputs": [],
   "source": [
    "fig, (ax1, ax2) = plt.subplots(1, 2, figsize=(20, 7.5))\n",
    "for country in ['Indonesia']:\n",
    "    df_country = get_country_data(df, country)\n",
    "    df_country['Cases'].plot(ax=ax1)\n",
    "    df_country['Deaths'].plot(ax=ax1)\n",
    "    df_country['Cases'].plot(ax=ax2, logy=True)\n",
    "    df_country['Deaths'].plot(ax=ax2, logy=True)\n",
    "#ax1.axvline('03-22-2020', ls='--', c='grey', label=' New York Lock-down')\n",
    "#ax2.axvline('03-22-2020', ls='--', c='grey', label='New York Lock-down')\n",
    "ax1.set_xlim('03-01-2020', last_data_date)\n",
    "ax1.set_title(f'{country}')\n",
    "ax1.grid(b=True, which='major', axis='both')\n",
    "ax1.legend()\n",
    "ax1.set_xlabel(None)\n",
    "ax1.tick_params(axis='both', which='both', labelsize=12)\n",
    "ax2.set_xlim('03-01-2020', last_data_date)\n",
    "ax2.set_title(f'{country} - Logarithmic Scale')\n",
    "ax2.grid(b=True, which='major', axis='both')\n",
    "ax2.legend()\n",
    "ax2.set_xlabel(None)\n",
    "ax2.tick_params(axis='both', which='both', labelsize=12)\n",
    "ax2.yaxis.set_major_formatter(mticker.ScalarFormatter())"
   ]
  },
  {
   "cell_type": "markdown",
   "metadata": {},
   "source": [
    "### Brazil\n",
    "Brazil is another developing country with a large population at 209 million people. Despite Brazilian President Jair Bolsonaro's [repeated denials that coronavirus is a threat](https://www.bbc.co.uk/news/world-latin-america-52080830), Brazil's confirmed cases have now reached over 4,600 and 165 deaths. The numbers do appear to be moving away from the initial sharp increase in deaths, although the number of cases and deaths will surely continue to increase for several weeks, as in other countries around the world."
   ]
  },
  {
   "cell_type": "code",
   "execution_count": null,
   "metadata": {},
   "outputs": [],
   "source": [
    "fig, (ax1, ax2) = plt.subplots(1, 2, figsize=(20, 7.5))\n",
    "for country in ['Brazil']:\n",
    "    df_country = get_country_data(df, country)\n",
    "    df_country['Cases'].plot(ax=ax1)\n",
    "    df_country['Deaths'].plot(ax=ax1)\n",
    "    df_country['Cases'].plot(ax=ax2, logy=True)\n",
    "    df_country['Deaths'].plot(ax=ax2, logy=True)\n",
    "#ax1.axvline('03-22-2020', ls='--', c='grey', label=' New York Lock-down')\n",
    "#ax2.axvline('03-22-2020', ls='--', c='grey', label='New York Lock-down')\n",
    "ax1.set_xlim('03-05-2020', last_data_date)\n",
    "ax1.set_title(f'{country}')\n",
    "ax1.grid(b=True, which='major', axis='both')\n",
    "ax1.legend()\n",
    "ax1.set_xlabel(None)\n",
    "ax1.tick_params(axis='both', which='both', labelsize=12)\n",
    "ax2.set_xlim('03-05-2020', last_data_date)\n",
    "ax2.set_title(f'{country} - Logarithmic Scale')\n",
    "ax2.grid(b=True, which='major', axis='both')\n",
    "ax2.legend()\n",
    "ax2.set_xlabel(None)\n",
    "ax2.tick_params(axis='both', which='both', labelsize=12)\n",
    "ax2.yaxis.set_major_formatter(mticker.ScalarFormatter())"
   ]
  },
  {
   "cell_type": "markdown",
   "metadata": {},
   "source": [
    "### Singapore and Taiwan\n",
    "Despite being among the first countries in the world to acquire cases of coronavirus, Singapore and Taiwan were initially able to control and reduce the spread of the virus in their countries. However, as the epidemic truly became global and the scale of the pandemic increased, cases were finally able to spread here, just as they have all over the world.\n",
    "\n",
    "**Observations:**\n",
    "* Interestingly, Singapore was able to avoid its first coronavirus deaths until 21st March despite having over 400 confirmed cases.\n",
    "* Taiwan's growth up until mid-March is abnormally linear compared to almost every other country; this is suggestive of Taiwan's very fast response to new cases, rigorously tracing the contacts of infected people to ensure that an outbreak could not occur.\n",
    "* There are already strong signs in the data that both countries are having success in controlling their most recent outbreaks."
   ]
  },
  {
   "cell_type": "code",
   "execution_count": null,
   "metadata": {},
   "outputs": [],
   "source": [
    "fig, (ax1, ax2) = plt.subplots(1, 2, figsize=(20, 7.5))\n",
    "for country in ['Singapore']:\n",
    "    df_country = get_country_data(df, country)\n",
    "    df_country['Cases'].plot(ax=ax1)\n",
    "    df_country['Deaths'].plot(ax=ax1)\n",
    "    df_country['Cases'].plot(ax=ax2, logy=True)\n",
    "    df_country['Deaths'].plot(ax=ax2, logy=True)\n",
    "#ax1.axvline('03-22-2020', ls='--', c='grey', label=' New York Lock-down')\n",
    "#ax2.axvline('03-22-2020', ls='--', c='grey', label='New York Lock-down')\n",
    "ax1.set_title(f'{country}')\n",
    "ax1.grid(b=True, which='major', axis='both')\n",
    "ax1.legend()\n",
    "ax1.set_xlabel(None)\n",
    "ax1.tick_params(axis='both', which='both', labelsize=12)\n",
    "ax2.set_title(f'{country} - Logarithmic Scale')\n",
    "ax2.grid(b=True, which='major', axis='both')\n",
    "ax2.legend()\n",
    "ax2.set_xlabel(None)\n",
    "ax2.tick_params(axis='both', which='both', labelsize=12)\n",
    "ax2.yaxis.set_major_formatter(mticker.ScalarFormatter())"
   ]
  },
  {
   "cell_type": "code",
   "execution_count": null,
   "metadata": {},
   "outputs": [],
   "source": [
    "fig, (ax1, ax2) = plt.subplots(1, 2, figsize=(20, 7.5))\n",
    "for country in ['Taiwan']:\n",
    "    df_country = get_country_data(df, country)\n",
    "    df_country['Cases'].plot(ax=ax1)\n",
    "    df_country['Deaths'].plot(ax=ax1)\n",
    "    df_country['Cases'].plot(ax=ax2, logy=True)\n",
    "    df_country['Deaths'].plot(ax=ax2, logy=True)\n",
    "ax1.set_title(f'{country}')\n",
    "ax1.grid(b=True, which='major', axis='both')\n",
    "ax1.legend()\n",
    "ax1.set_xlabel(None)\n",
    "ax1.tick_params(axis='both', which='both', labelsize=12)\n",
    "ax2.set_title(f'{country} - Logarithmic Scale')\n",
    "ax2.grid(b=True, which='major', axis='both')\n",
    "ax2.legend()\n",
    "ax2.set_xlabel(None)\n",
    "ax2.tick_params(axis='both', which='both', labelsize=12)\n",
    "ax2.yaxis.set_major_formatter(mticker.ScalarFormatter())"
   ]
  },
  {
   "cell_type": "markdown",
   "metadata": {},
   "source": [
    "### Africa\n",
    "It was initially hoped that Africa might be able to avoid cases as global transport links shut down. However, looking at the current figures, there are now cases in most countries across the African continent and according to the latest WHO situation report, there is [community transmission in 22 African countries](https://www.who.int/docs/default-source/coronaviruse/situation-reports/20200330-sitrep-70-covid-19.pdf?sfvrsn=7e0fe3f8_2). With a continent population of 1.2 billion this is extremely worrying. With every major country on the planet now facing its own coronavirus crisis, Sub-Saharan African nations will likely be left to fend for themselves."
   ]
  },
  {
   "cell_type": "code",
   "execution_count": null,
   "metadata": {},
   "outputs": [],
   "source": [
    "africa = ['Burkina Faso', 'Senegal', 'Ghana', 'Cameroon', 'DRC', 'Kenya', 'Madagascar', 'Uganda', 'Zambia', 'Mali', 'Congo', 'Tanzania', 'Djibouti']\n",
    "fig, (ax1, ax2) = plt.subplots(1, 2, figsize=(20, 7.5))\n",
    "for country in africa:\n",
    "    df_country = get_country_data(df, country)\n",
    "    df_country['Cases'].plot(label=country, ax=ax1)\n",
    "    df_country['Deaths'].plot(label=country, ax=ax2)\n",
    "ax1.set_xlim('03-01-2020', last_data_date)\n",
    "ax1.set_title('Confirmed Cases')\n",
    "ax1.grid(b=True, which='major', axis='both')\n",
    "ax1.legend()\n",
    "ax2.set_xlim('03-01-2020', last_data_date)\n",
    "ax2.set_title('Deaths')\n",
    "ax2.grid(b=True, which='major', axis='both')\n",
    "ax2.legend()\n",
    "ax1.set_xlabel(None)\n",
    "ax2.set_xlabel(None)\n",
    "ax1.tick_params(axis='both', which='both', labelsize=12)\n",
    "ax2.tick_params(axis='both', which='both', labelsize=12)"
   ]
  },
  {
   "cell_type": "markdown",
   "metadata": {},
   "source": [
    "## Has anyone learned from the earlier epidemics?\n",
    "The hope is that countries which saw outbreaks later on in the pandemic may have been able to take strong measures to stop the outbreaks in their countries faster than we have seen in Western Europe and USA so far. This is hard to tell at this relatively early stage in the global epidemic but should become clear in a matter of weeks."
   ]
  },
  {
   "cell_type": "markdown",
   "metadata": {},
   "source": [
    "## The 'China Virus'\n",
    "\n",
    "Hindsight is a powerful thing and it is particularly sobering to look back at the way the media reported the early days of the outbreak in China. As the cases grew almost exclusively in China for about a month, it was easy for us in the West to distance ourselves from a very real threat of an epidemic that would reach us some day - the numbers we saw were worrying but were still 'just in China'. The idea that Western nations could experience the same life-changing restrictions of quarantines and lock-downs or our societies to be crippled in such a devastating way seemed somewhat farsical. The media tells a rather different story today.\n",
    "\n",
    "We are not near the end of this crisis but my hope is that a silver lining of this all will be to show people around the globe that events can change even the lives of the most privileged. Perhaps we will finally be awakened as one to respond to other potential global emergencies with the urgency that they too deserve in a similar way as we are seeing across the world today."
   ]
  }
 ],
 "metadata": {
  "kernelspec": {
   "display_name": "Python 3",
   "language": "python",
   "name": "python3"
  },
  "language_info": {
   "codemirror_mode": {
    "name": "ipython",
    "version": 3
   },
   "file_extension": ".py",
   "mimetype": "text/x-python",
   "name": "python",
   "nbconvert_exporter": "python",
   "pygments_lexer": "ipython3",
   "version": "3.8.0"
  },
  "toc-autonumbering": true
 },
 "nbformat": 4,
 "nbformat_minor": 4
}
